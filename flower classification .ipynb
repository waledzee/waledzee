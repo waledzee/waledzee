{
 "cells": [
  {
   "cell_type": "code",
   "execution_count": null,
   "id": "0db4992f",
   "metadata": {},
   "outputs": [],
   "source": [
    "\"\"\"\n",
    "1- load model  -done-\n",
    "2- take user input  -done-\n",
    "3- pass input to the model -done-\n",
    "4- process the output and show it to the user\n",
    "\"\"\""
   ]
  },
  {
   "cell_type": "code",
   "execution_count": 25,
   "id": "bd3b7261",
   "metadata": {},
   "outputs": [
    {
     "name": "stdout",
     "output_type": "stream",
     "text": [
      "Overwriting app.py\n"
     ]
    }
   ],
   "source": [
    "%%writefile app.py\n",
    "import tensorflow as tf\n",
    "import streamlit as st\n",
    "import cv2\n",
    "from PIL import Image,ImageOps\n",
    "import numpy as np\n",
    "\n",
    "@st.cache(allow_output_mutation=True)\n",
    "def load_model():\n",
    "    model=tf.keras.models.load_model('savedflowermodel')\n",
    "    return model\n",
    "with st.spinner('Model is being loaded ..'):\n",
    "    model=load_model()\n",
    "    \n",
    "st.write(\"\"\"\n",
    "# Flower Classification webapp\n",
    "\"\"\")\n",
    "file=st.file_uploader('Please upload a flower image',type=['jpg','png'])\n",
    "\n",
    "def import_and_predict(image_data,model):\n",
    "    size=(180,180)\n",
    "    image=ImageOps.fit(image_data,size,Image.ANTIALIAS)\n",
    "    image=np.asarray(image)\n",
    "    img=cv2.cvtColor(image,cv2.COLOR_BGR2RGB)\n",
    "    \n",
    "    # the input to the model is batch (number of images in batch , length ,width ,number of channel)\n",
    "    img_reshape=img[np.newaxis,...]\n",
    "    prediction=model.predict(img_reshape)\n",
    "    return prediction\n",
    "\n",
    "if file is None:\n",
    "    st.text('Please upload valid image')\n",
    "else:\n",
    "    image=Image.open(file)\n",
    "    st.image(image)\n",
    "    predictions=import_and_predict(image,model)\n",
    "    score=tf.nn.softmax(predictions[0])\n",
    "    st.write(predictions)\n",
    "    st.write(score)\n",
    "    class_names=['daisy','dandelion','roses','sunflowers','tulips']\n",
    "    if np.max(score)<0.8:\n",
    "        st.write('thge model is not confident about the output')\n",
    "    else:\n",
    "        \n",
    "        st.write('This image belongs to {} with a {:.2f} percent confidence'.format(class_names[np.argmax(score)],100*np.max(score)))\n",
    "    "
   ]
  },
  {
   "cell_type": "code",
   "execution_count": 26,
   "id": "2221dab1",
   "metadata": {},
   "outputs": [
    {
     "name": "stdout",
     "output_type": "stream",
     "text": [
      "^C\n"
     ]
    }
   ],
   "source": [
    "! streamlit run app.py"
   ]
  },
  {
   "cell_type": "code",
   "execution_count": 14,
   "id": "852cc145",
   "metadata": {},
   "outputs": [],
   "source": [
    "import numpy as np\n",
    "img=np.array([[1,2,3],[4,5,6]])"
   ]
  },
  {
   "cell_type": "code",
   "execution_count": 15,
   "id": "b9326b63",
   "metadata": {},
   "outputs": [
    {
     "data": {
      "text/plain": [
       "array([[[1, 2, 3],\n",
       "        [4, 5, 6]]])"
      ]
     },
     "execution_count": 15,
     "metadata": {},
     "output_type": "execute_result"
    }
   ],
   "source": [
    "img[np.newaxis,...]"
   ]
  },
  {
   "cell_type": "code",
   "execution_count": null,
   "id": "b0abc2cb",
   "metadata": {},
   "outputs": [],
   "source": []
  }
 ],
 "metadata": {
  "kernelspec": {
   "display_name": "Python 3",
   "language": "python",
   "name": "python3"
  },
  "language_info": {
   "codemirror_mode": {
    "name": "ipython",
    "version": 3
   },
   "file_extension": ".py",
   "mimetype": "text/x-python",
   "name": "python",
   "nbconvert_exporter": "python",
   "pygments_lexer": "ipython3",
   "version": "3.8.8"
  }
 },
 "nbformat": 4,
 "nbformat_minor": 5
}
