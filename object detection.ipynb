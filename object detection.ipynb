{
 "cells": [
  {
   "cell_type": "code",
   "execution_count": 10,
   "id": "a2a700ea",
   "metadata": {},
   "outputs": [
    {
     "name": "stdout",
     "output_type": "stream",
     "text": [
      "Overwriting objectds.py\n"
     ]
    }
   ],
   "source": [
    "%%writefile objectds.py\n",
    "import cv2\n",
    "import numpy as np\n",
    "import os\n",
    "\n",
    "def detect_object(frame):\n",
    "    # load model\n",
    "    cfg_path=os.path.abspath('yolo/yolov4.cfg')\n",
    "    weights_path=os.path.abspath('yolo/yolov4.weights')\n",
    "    names_path=os.path.abspath('yolo/coco.names')\n",
    "    # loading and configure the model\n",
    "    net=cv2.dnn_DetectionModel(cfg_path,weights_path)\n",
    "    net.setInputSize(704,704)\n",
    "    net.setInputScale(1.0/255)\n",
    "    net.setInputSwapRB(True)\n",
    "    with open(names_path,'rt') as f:\n",
    "        names=f.read().rstrip('\\n').split('\\n')\n",
    "    # feed model image\n",
    "\n",
    "    frame=cv2.resize(frame,dsize=(704,704))\n",
    "\n",
    "    classes,confidences,boxes=net.detect(frame,confThreshold=0.1,nmsThreshold=0.4)\n",
    "\n",
    "    # view ouput\n",
    "    for classId,confidence,box in zip(classes.flatten(),confidences.flatten(),boxes):\n",
    "        label ='%.2f'% confidence\n",
    "        label='%s: %s' % (names[classId],label)\n",
    "        labelSize,baseline=cv2.getTextSize(label,cv2.FONT_HERSHEY_SIMPLEX,0.5,1)\n",
    "        left,top,width,height=box\n",
    "        cv2.rectangle(frame,box,color=(0,255,0),thickness=3)\n",
    "\n",
    "        cv2.putText(frame,label,(left,top),cv2.FONT_HERSHEY_SIMPLEX,0.5,(0,0,0))\n",
    "    return frame\n",
    "    \n",
    "    "
   ]
  },
  {
   "cell_type": "code",
   "execution_count": 11,
   "id": "de3f02a6",
   "metadata": {},
   "outputs": [
    {
     "name": "stdout",
     "output_type": "stream",
     "text": [
      "Overwriting objectdetectionds9.py\n"
     ]
    }
   ],
   "source": [
    "%%writefile objectdetectionds9.py\n",
    "import streamlit as st\n",
    "import numpy as np\n",
    "from PIL import Image\n",
    "from objectds import detect_object\n",
    "\n",
    "\n",
    "def upload_image_ui():\n",
    "    uploaded_image=st.file_uploader('Please upload an image',type=['png','jpg'])\n",
    "    if uploaded_image is not None:\n",
    "        try:\n",
    "            image=Image.open(uploaded_image)\n",
    "        except Exception:\n",
    "            st.error('Error : please upload a valid image')\n",
    "        else:\n",
    "            img_array=np.array(image)\n",
    "            return img_array\n",
    "        \n",
    "def main():\n",
    "    st.title('Object detection using yolo')\n",
    "    img_array=upload_image_ui()\n",
    "    if isinstance(img_array,np.ndarray):\n",
    "        image=detect_object(img_array)\n",
    "        st.image(image)\n",
    "        \n",
    "if __name__=='__main__':\n",
    "    main()"
   ]
  },
  {
   "cell_type": "code",
   "execution_count": 12,
   "id": "2bac1089",
   "metadata": {},
   "outputs": [
    {
     "name": "stdout",
     "output_type": "stream",
     "text": [
      "^C\n"
     ]
    }
   ],
   "source": [
    "! streamlit run objectdetectionds9.py"
   ]
  },
  {
   "cell_type": "code",
   "execution_count": null,
   "id": "934af635",
   "metadata": {},
   "outputs": [],
   "source": []
  }
 ],
 "metadata": {
  "kernelspec": {
   "display_name": "Python 3",
   "language": "python",
   "name": "python3"
  },
  "language_info": {
   "codemirror_mode": {
    "name": "ipython",
    "version": 3
   },
   "file_extension": ".py",
   "mimetype": "text/x-python",
   "name": "python",
   "nbconvert_exporter": "python",
   "pygments_lexer": "ipython3",
   "version": "3.8.8"
  }
 },
 "nbformat": 4,
 "nbformat_minor": 5
}
