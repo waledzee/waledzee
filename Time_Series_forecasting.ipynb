{
  "nbformat": 4,
  "nbformat_minor": 0,
  "metadata": {
    "colab": {
      "name": "Time Series forecasting.ipynb",
      "provenance": []
    },
    "kernelspec": {
      "name": "python3",
      "display_name": "Python 3"
    },
    "language_info": {
      "name": "python"
    },
    "accelerator": "GPU"
  },
  "cells": [
    {
      "cell_type": "code",
      "execution_count": 7,
      "metadata": {
        "id": "CiON81vsXUu0"
      },
      "outputs": [],
      "source": [
        "import pandas as pd\n",
        "import numpy as np\n",
        "import matplotlib.pyplot as plt\n",
        "from sklearn import metrics\n",
        "from sklearn.preprocessing import LabelEncoder,MinMaxScaler\n",
        "import tensorflow as tf\n"
      ]
    },
    {
      "cell_type": "code",
      "source": [
        "data=pd.read_csv('metro data.csv')\n",
        "data2=pd.read_csv('Eng_hassan.csv')"
      ],
      "metadata": {
        "id": "XNFWcHQHYAlN"
      },
      "execution_count": 20,
      "outputs": []
    },
    {
      "cell_type": "code",
      "source": [
        "data2=data2[['x1','y1']]\n",
        "out=[14,14,14,14,15,14,13,13,13]"
      ],
      "metadata": {
        "id": "R-6REOEBYEZV"
      },
      "execution_count": 65,
      "outputs": []
    },
    {
      "cell_type": "code",
      "source": [
        "data2[0:4]"
      ],
      "metadata": {
        "colab": {
          "base_uri": "https://localhost:8080/",
          "height": 175
        },
        "id": "Z6QJZN1IsEv2",
        "outputId": "ca563610-07e8-4ccc-de4f-35023fb95fb4"
      },
      "execution_count": 66,
      "outputs": [
        {
          "output_type": "execute_result",
          "data": {
            "text/plain": [
              "        x1       y1\n",
              "0 -1.19751 -30.2887\n",
              "1 -1.19507 -29.4830\n",
              "2 -1.19263 -28.3844\n",
              "3 -1.19019 -27.8137"
            ],
            "text/html": [
              "\n",
              "  <div id=\"df-a85607fe-87dc-42b0-acd4-a6b588bf9f74\">\n",
              "    <div class=\"colab-df-container\">\n",
              "      <div>\n",
              "<style scoped>\n",
              "    .dataframe tbody tr th:only-of-type {\n",
              "        vertical-align: middle;\n",
              "    }\n",
              "\n",
              "    .dataframe tbody tr th {\n",
              "        vertical-align: top;\n",
              "    }\n",
              "\n",
              "    .dataframe thead th {\n",
              "        text-align: right;\n",
              "    }\n",
              "</style>\n",
              "<table border=\"1\" class=\"dataframe\">\n",
              "  <thead>\n",
              "    <tr style=\"text-align: right;\">\n",
              "      <th></th>\n",
              "      <th>x1</th>\n",
              "      <th>y1</th>\n",
              "    </tr>\n",
              "  </thead>\n",
              "  <tbody>\n",
              "    <tr>\n",
              "      <th>0</th>\n",
              "      <td>-1.19751</td>\n",
              "      <td>-30.2887</td>\n",
              "    </tr>\n",
              "    <tr>\n",
              "      <th>1</th>\n",
              "      <td>-1.19507</td>\n",
              "      <td>-29.4830</td>\n",
              "    </tr>\n",
              "    <tr>\n",
              "      <th>2</th>\n",
              "      <td>-1.19263</td>\n",
              "      <td>-28.3844</td>\n",
              "    </tr>\n",
              "    <tr>\n",
              "      <th>3</th>\n",
              "      <td>-1.19019</td>\n",
              "      <td>-27.8137</td>\n",
              "    </tr>\n",
              "  </tbody>\n",
              "</table>\n",
              "</div>\n",
              "      <button class=\"colab-df-convert\" onclick=\"convertToInteractive('df-a85607fe-87dc-42b0-acd4-a6b588bf9f74')\"\n",
              "              title=\"Convert this dataframe to an interactive table.\"\n",
              "              style=\"display:none;\">\n",
              "        \n",
              "  <svg xmlns=\"http://www.w3.org/2000/svg\" height=\"24px\"viewBox=\"0 0 24 24\"\n",
              "       width=\"24px\">\n",
              "    <path d=\"M0 0h24v24H0V0z\" fill=\"none\"/>\n",
              "    <path d=\"M18.56 5.44l.94 2.06.94-2.06 2.06-.94-2.06-.94-.94-2.06-.94 2.06-2.06.94zm-11 1L8.5 8.5l.94-2.06 2.06-.94-2.06-.94L8.5 2.5l-.94 2.06-2.06.94zm10 10l.94 2.06.94-2.06 2.06-.94-2.06-.94-.94-2.06-.94 2.06-2.06.94z\"/><path d=\"M17.41 7.96l-1.37-1.37c-.4-.4-.92-.59-1.43-.59-.52 0-1.04.2-1.43.59L10.3 9.45l-7.72 7.72c-.78.78-.78 2.05 0 2.83L4 21.41c.39.39.9.59 1.41.59.51 0 1.02-.2 1.41-.59l7.78-7.78 2.81-2.81c.8-.78.8-2.07 0-2.86zM5.41 20L4 18.59l7.72-7.72 1.47 1.35L5.41 20z\"/>\n",
              "  </svg>\n",
              "      </button>\n",
              "      \n",
              "  <style>\n",
              "    .colab-df-container {\n",
              "      display:flex;\n",
              "      flex-wrap:wrap;\n",
              "      gap: 12px;\n",
              "    }\n",
              "\n",
              "    .colab-df-convert {\n",
              "      background-color: #E8F0FE;\n",
              "      border: none;\n",
              "      border-radius: 50%;\n",
              "      cursor: pointer;\n",
              "      display: none;\n",
              "      fill: #1967D2;\n",
              "      height: 32px;\n",
              "      padding: 0 0 0 0;\n",
              "      width: 32px;\n",
              "    }\n",
              "\n",
              "    .colab-df-convert:hover {\n",
              "      background-color: #E2EBFA;\n",
              "      box-shadow: 0px 1px 2px rgba(60, 64, 67, 0.3), 0px 1px 3px 1px rgba(60, 64, 67, 0.15);\n",
              "      fill: #174EA6;\n",
              "    }\n",
              "\n",
              "    [theme=dark] .colab-df-convert {\n",
              "      background-color: #3B4455;\n",
              "      fill: #D2E3FC;\n",
              "    }\n",
              "\n",
              "    [theme=dark] .colab-df-convert:hover {\n",
              "      background-color: #434B5C;\n",
              "      box-shadow: 0px 1px 3px 1px rgba(0, 0, 0, 0.15);\n",
              "      filter: drop-shadow(0px 1px 2px rgba(0, 0, 0, 0.3));\n",
              "      fill: #FFFFFF;\n",
              "    }\n",
              "  </style>\n",
              "\n",
              "      <script>\n",
              "        const buttonEl =\n",
              "          document.querySelector('#df-a85607fe-87dc-42b0-acd4-a6b588bf9f74 button.colab-df-convert');\n",
              "        buttonEl.style.display =\n",
              "          google.colab.kernel.accessAllowed ? 'block' : 'none';\n",
              "\n",
              "        async function convertToInteractive(key) {\n",
              "          const element = document.querySelector('#df-a85607fe-87dc-42b0-acd4-a6b588bf9f74');\n",
              "          const dataTable =\n",
              "            await google.colab.kernel.invokeFunction('convertToInteractive',\n",
              "                                                     [key], {});\n",
              "          if (!dataTable) return;\n",
              "\n",
              "          const docLinkHtml = 'Like what you see? Visit the ' +\n",
              "            '<a target=\"_blank\" href=https://colab.research.google.com/notebooks/data_table.ipynb>data table notebook</a>'\n",
              "            + ' to learn more about interactive tables.';\n",
              "          element.innerHTML = '';\n",
              "          dataTable['output_type'] = 'display_data';\n",
              "          await google.colab.output.renderOutput(dataTable, element);\n",
              "          const docLink = document.createElement('div');\n",
              "          docLink.innerHTML = docLinkHtml;\n",
              "          element.appendChild(docLink);\n",
              "        }\n",
              "      </script>\n",
              "    </div>\n",
              "  </div>\n",
              "  "
            ]
          },
          "metadata": {},
          "execution_count": 66
        }
      ]
    },
    {
      "cell_type": "code",
      "source": [
        "#492.0 horizon 1\n",
        "def custom_ts_multi_data_prep2(dataset,start,end,window,horizon):\n",
        "  X=[]\n",
        "  Y=[]\n",
        "  start=start+window\n",
        "  if end is None:\n",
        "    end=len(dataset)\n",
        "\n",
        "  for i in range(start,end+1,492):\n",
        "\n",
        "    indices=range(i-window,i)\n",
        "    ss=i-window\n",
        "    ee=i\n",
        "\n",
        "    X.append(dataset[ss:ee])\n",
        "\n",
        "  return np.array(X)\n"
      ],
      "metadata": {
        "id": "UtR-5zPEpRnw"
      },
      "execution_count": 68,
      "outputs": []
    },
    {
      "cell_type": "code",
      "source": [
        "x_t2=custom_ts_multi_data_prep2(data2,0,None,492,1)"
      ],
      "metadata": {
        "id": "g3JdAeqBp9vM"
      },
      "execution_count": 69,
      "outputs": []
    },
    {
      "cell_type": "code",
      "source": [
        "x_t2.shape\n",
        "\n",
        "X_scaler=MinMaxScaler()\n",
        "X_data=X_scaler.fit_transform(data2[['x1','y1']])\n"
      ],
      "metadata": {
        "id": "R2upCoP9rtpW"
      },
      "execution_count": 72,
      "outputs": []
    },
    {
      "cell_type": "code",
      "source": [
        "y_t2.shape"
      ],
      "metadata": {
        "colab": {
          "base_uri": "https://localhost:8080/"
        },
        "id": "UbxqS52ZuS_9",
        "outputId": "21e9e0f3-b2ee-428a-93c4-1573cb3f3351"
      },
      "execution_count": 74,
      "outputs": [
        {
          "output_type": "execute_result",
          "data": {
            "text/plain": [
              "(9,)"
            ]
          },
          "metadata": {},
          "execution_count": 74
        }
      ]
    },
    {
      "cell_type": "code",
      "source": [
        "for i in data.select_dtypes('object').columns:\n",
        "  le=LabelEncoder().fit(data[i])\n",
        "  data[i]=le.transform(data[i])\n",
        "\n",
        "X_scaler=MinMaxScaler()\n",
        "Y_scaler=MinMaxScaler()\n",
        "X_data=X_scaler.fit_transform(data[['holiday','temp','rain_1h','snow_1h','clouds_all','weather_main','weather_description']])\n",
        "Y_data=Y_scaler.fit_transform(data[['traffic_volume']])"
      ],
      "metadata": {
        "id": "F5FYg1PnYF-f"
      },
      "execution_count": 10,
      "outputs": []
    },
    {
      "cell_type": "code",
      "source": [
        "def custom_ts_multi_data_prep(dataset,target,start,end,window,horizon):\n",
        "  X=[]\n",
        "  Y=[]\n",
        "  start=start+window\n",
        "  if end is None:\n",
        "    end=len(dataset)-horizon\n",
        "\n",
        "  for i in range(start,end):\n",
        "    indices=range(i-window,i)\n",
        "    X.append(dataset[indices])\n",
        "    indicey=range(i+1,i+1+horizon)\n",
        "    Y.append(target[indicey])\n",
        "  return np.array(X),np.array(Y)"
      ],
      "metadata": {
        "id": "KrE-JMwOar7P"
      },
      "execution_count": 11,
      "outputs": []
    },
    {
      "cell_type": "code",
      "source": [
        "hist_window=48\n",
        "horizon=1\n",
        "Train_split=5\n",
        "x_train,y_train=custom_ts_multi_data_prep(X_data,Y_data,0,Train_split,hist_window,horizon)\n",
        "x_test,y_test=custom_ts_multi_data_prep(X_data,Y_data,Train_split,None,hist_window,horizon)"
      ],
      "metadata": {
        "id": "0Ft5I4IWcYc1"
      },
      "execution_count": 12,
      "outputs": []
    },
    {
      "cell_type": "code",
      "source": [
        "print(x_train[0].shape)"
      ],
      "metadata": {
        "colab": {
          "base_uri": "https://localhost:8080/"
        },
        "id": "UG6qzuDgdids",
        "outputId": "9e1c2052-996f-47f5-c470-9065c6b9530c"
      },
      "execution_count": 13,
      "outputs": [
        {
          "output_type": "stream",
          "name": "stdout",
          "text": [
            "(48, 7)\n"
          ]
        }
      ]
    },
    {
      "cell_type": "code",
      "source": [
        "batch_size=256\n",
        "buffer_size=150\n",
        "train_data=tf.data.Dataset.from_tensor_slices((x_train,y_train))\n",
        "train_data=train_data.cache().shuffle(buffer_size).batch(batch_size).repeat()\n",
        "test_data=tf.data.Dataset.from_tensor_slices((x_test,y_test))\n",
        "test_data=test_data.batch(batch_size).repeat()"
      ],
      "metadata": {
        "id": "bM4HcQ5cdoeL"
      },
      "execution_count": 14,
      "outputs": []
    },
    {
      "cell_type": "code",
      "source": [
        "x_train.shape[-2:]"
      ],
      "metadata": {
        "colab": {
          "base_uri": "https://localhost:8080/"
        },
        "id": "hQOWPkF8f9BQ",
        "outputId": "b1d9cbe9-90ba-4b6e-f73c-fa9afe8e3b3d"
      },
      "execution_count": 15,
      "outputs": [
        {
          "output_type": "execute_result",
          "data": {
            "text/plain": [
              "(48, 7)"
            ]
          },
          "metadata": {},
          "execution_count": 15
        }
      ]
    },
    {
      "cell_type": "code",
      "source": [
        "model=tf.keras.models.Sequential([\n",
        "      tf.keras.layers.Bidirectional(tf.keras.layers.LSTM(200,return_sequences=True),input_shape=x_train.shape[-2:]),\n",
        "      tf.keras.layers.Dense(20,activation='tanh'),\n",
        "      tf.keras.layers.Bidirectional(tf.keras.layers.LSTM(150)),\n",
        "      tf.keras.layers.Dense(20,activation='tanh'),\n",
        "      tf.keras.layers.Dense(20,activation='tanh'),\n",
        "      tf.keras.layers.Dropout(0.25),\n",
        "      tf.keras.layers.Dense(units=horizon),\n",
        "\n",
        "\n",
        "])\n",
        "model.compile(optimizer='adam',loss='mse')"
      ],
      "metadata": {
        "id": "bINFY5SxfVjM"
      },
      "execution_count": 16,
      "outputs": []
    },
    {
      "cell_type": "code",
      "source": [
        "model.summary()"
      ],
      "metadata": {
        "colab": {
          "base_uri": "https://localhost:8080/"
        },
        "id": "ZDsEcGSMiwun",
        "outputId": "9e9869cb-07d0-4c7f-d8d0-242da04891e2"
      },
      "execution_count": 17,
      "outputs": [
        {
          "output_type": "stream",
          "name": "stdout",
          "text": [
            "Model: \"sequential\"\n",
            "_________________________________________________________________\n",
            " Layer (type)                Output Shape              Param #   \n",
            "=================================================================\n",
            " bidirectional (Bidirectiona  (None, 48, 400)          332800    \n",
            " l)                                                              \n",
            "                                                                 \n",
            " dense (Dense)               (None, 48, 20)            8020      \n",
            "                                                                 \n",
            " bidirectional_1 (Bidirectio  (None, 300)              205200    \n",
            " nal)                                                            \n",
            "                                                                 \n",
            " dense_1 (Dense)             (None, 20)                6020      \n",
            "                                                                 \n",
            " dense_2 (Dense)             (None, 20)                420       \n",
            "                                                                 \n",
            " dropout (Dropout)           (None, 20)                0         \n",
            "                                                                 \n",
            " dense_3 (Dense)             (None, 10)                210       \n",
            "                                                                 \n",
            "=================================================================\n",
            "Total params: 552,670\n",
            "Trainable params: 552,670\n",
            "Non-trainable params: 0\n",
            "_________________________________________________________________\n"
          ]
        }
      ]
    },
    {
      "cell_type": "code",
      "source": [
        "model.fit(train_data,epochs=100,steps_per_epoch=100)"
      ],
      "metadata": {
        "colab": {
          "base_uri": "https://localhost:8080/"
        },
        "id": "XDZh8FOIjyPG",
        "outputId": "1c7a6102-47f2-4de7-b6ae-056b6aa04318"
      },
      "execution_count": 18,
      "outputs": [
        {
          "output_type": "stream",
          "name": "stdout",
          "text": [
            "Epoch 1/100\n",
            "100/100 [==============================] - 20s 87ms/step - loss: 0.1115\n",
            "Epoch 2/100\n",
            "100/100 [==============================] - 9s 85ms/step - loss: 0.0877\n",
            "Epoch 3/100\n",
            "100/100 [==============================] - 9s 86ms/step - loss: 0.0833\n",
            "Epoch 4/100\n",
            "100/100 [==============================] - 9s 85ms/step - loss: 0.0804\n",
            "Epoch 5/100\n",
            "100/100 [==============================] - 9s 85ms/step - loss: 0.0798\n",
            "Epoch 6/100\n",
            "100/100 [==============================] - 9s 85ms/step - loss: 0.0774\n",
            "Epoch 7/100\n",
            "100/100 [==============================] - 9s 85ms/step - loss: 0.0780\n",
            "Epoch 8/100\n",
            "100/100 [==============================] - 9s 85ms/step - loss: 0.0785\n",
            "Epoch 9/100\n",
            "100/100 [==============================] - 9s 86ms/step - loss: 0.0759\n",
            "Epoch 10/100\n",
            "100/100 [==============================] - 9s 86ms/step - loss: 0.0762\n",
            "Epoch 11/100\n",
            "100/100 [==============================] - 9s 88ms/step - loss: 0.0753\n",
            "Epoch 12/100\n",
            "100/100 [==============================] - 9s 85ms/step - loss: 0.0756\n",
            "Epoch 13/100\n",
            "100/100 [==============================] - 9s 86ms/step - loss: 0.0746\n",
            "Epoch 14/100\n",
            "100/100 [==============================] - 9s 86ms/step - loss: 0.0757\n",
            "Epoch 15/100\n",
            "100/100 [==============================] - 9s 85ms/step - loss: 0.0764\n",
            "Epoch 16/100\n",
            "100/100 [==============================] - 9s 86ms/step - loss: 0.0742\n",
            "Epoch 17/100\n",
            "100/100 [==============================] - 9s 85ms/step - loss: 0.0750\n",
            "Epoch 18/100\n",
            "100/100 [==============================] - 9s 86ms/step - loss: 0.0741\n",
            "Epoch 19/100\n",
            "100/100 [==============================] - 9s 86ms/step - loss: 0.0738\n",
            "Epoch 20/100\n",
            "100/100 [==============================] - 9s 85ms/step - loss: 0.0736\n",
            "Epoch 21/100\n",
            "100/100 [==============================] - 9s 86ms/step - loss: 0.0748\n",
            "Epoch 22/100\n",
            "100/100 [==============================] - 9s 86ms/step - loss: 0.0750\n",
            "Epoch 23/100\n",
            "100/100 [==============================] - 9s 85ms/step - loss: 0.0732\n",
            "Epoch 24/100\n",
            "100/100 [==============================] - 9s 85ms/step - loss: 0.0738\n",
            "Epoch 25/100\n",
            "100/100 [==============================] - 9s 86ms/step - loss: 0.0738\n",
            "Epoch 26/100\n",
            "100/100 [==============================] - 9s 86ms/step - loss: 0.0715\n",
            "Epoch 27/100\n",
            "100/100 [==============================] - 9s 85ms/step - loss: 0.0711\n",
            "Epoch 28/100\n",
            "100/100 [==============================] - 9s 86ms/step - loss: 0.0722\n",
            "Epoch 29/100\n",
            "100/100 [==============================] - 9s 85ms/step - loss: 0.0718\n",
            "Epoch 30/100\n",
            "100/100 [==============================] - 9s 85ms/step - loss: 0.0690\n",
            "Epoch 31/100\n",
            "100/100 [==============================] - 9s 86ms/step - loss: 0.0699\n",
            "Epoch 32/100\n",
            "100/100 [==============================] - 9s 85ms/step - loss: 0.0696\n",
            "Epoch 33/100\n",
            "100/100 [==============================] - 9s 86ms/step - loss: 0.0670\n",
            "Epoch 34/100\n",
            "100/100 [==============================] - 9s 86ms/step - loss: 0.0667\n",
            "Epoch 35/100\n",
            "100/100 [==============================] - 9s 85ms/step - loss: 0.0666\n",
            "Epoch 36/100\n",
            "100/100 [==============================] - 9s 86ms/step - loss: 0.0662\n",
            "Epoch 37/100\n",
            "100/100 [==============================] - 9s 85ms/step - loss: 0.0618\n",
            "Epoch 38/100\n",
            "100/100 [==============================] - 9s 85ms/step - loss: 0.0662\n",
            "Epoch 39/100\n",
            "100/100 [==============================] - 9s 85ms/step - loss: 0.0656\n",
            "Epoch 40/100\n",
            "100/100 [==============================] - 9s 85ms/step - loss: 0.0631\n",
            "Epoch 41/100\n",
            "100/100 [==============================] - 9s 86ms/step - loss: 0.0621\n",
            "Epoch 42/100\n",
            "100/100 [==============================] - 9s 86ms/step - loss: 0.0634\n",
            "Epoch 43/100\n",
            "100/100 [==============================] - 9s 85ms/step - loss: 0.0630\n",
            "Epoch 44/100\n",
            "100/100 [==============================] - 9s 86ms/step - loss: 0.0583\n",
            "Epoch 45/100\n",
            "100/100 [==============================] - 9s 85ms/step - loss: 0.0633\n",
            "Epoch 46/100\n",
            "100/100 [==============================] - 9s 86ms/step - loss: 0.0617\n",
            "Epoch 47/100\n",
            "100/100 [==============================] - 9s 85ms/step - loss: 0.0603\n",
            "Epoch 48/100\n",
            "100/100 [==============================] - 9s 85ms/step - loss: 0.0604\n",
            "Epoch 49/100\n",
            "100/100 [==============================] - 9s 85ms/step - loss: 0.0612\n",
            "Epoch 50/100\n",
            "100/100 [==============================] - 9s 85ms/step - loss: 0.0603\n",
            "Epoch 51/100\n",
            "100/100 [==============================] - 9s 85ms/step - loss: 0.0571\n",
            "Epoch 52/100\n",
            "100/100 [==============================] - 9s 85ms/step - loss: 0.0615\n",
            "Epoch 53/100\n",
            "100/100 [==============================] - 9s 85ms/step - loss: 0.0591\n",
            "Epoch 54/100\n",
            "100/100 [==============================] - 9s 85ms/step - loss: 0.0587\n",
            "Epoch 55/100\n",
            "100/100 [==============================] - 9s 86ms/step - loss: 0.0583\n",
            "Epoch 56/100\n",
            "100/100 [==============================] - 9s 86ms/step - loss: 0.0603\n",
            "Epoch 57/100\n",
            "100/100 [==============================] - 9s 86ms/step - loss: 0.0589\n",
            "Epoch 58/100\n",
            "100/100 [==============================] - 9s 86ms/step - loss: 0.0567\n",
            "Epoch 59/100\n",
            "100/100 [==============================] - 9s 86ms/step - loss: 0.0601\n",
            "Epoch 60/100\n",
            "100/100 [==============================] - 9s 86ms/step - loss: 0.0570\n",
            "Epoch 61/100\n",
            "100/100 [==============================] - 9s 86ms/step - loss: 0.0577\n",
            "Epoch 62/100\n",
            "100/100 [==============================] - 9s 86ms/step - loss: 0.0576\n",
            "Epoch 63/100\n",
            "100/100 [==============================] - 9s 86ms/step - loss: 0.0598\n",
            "Epoch 64/100\n",
            "100/100 [==============================] - 9s 86ms/step - loss: 0.0568\n",
            "Epoch 65/100\n",
            "100/100 [==============================] - 9s 86ms/step - loss: 0.0559\n",
            "Epoch 66/100\n",
            "100/100 [==============================] - 9s 86ms/step - loss: 0.0589\n",
            "Epoch 67/100\n",
            "100/100 [==============================] - 9s 86ms/step - loss: 0.0566\n",
            "Epoch 68/100\n",
            "100/100 [==============================] - 9s 86ms/step - loss: 0.0565\n",
            "Epoch 69/100\n",
            "100/100 [==============================] - 9s 86ms/step - loss: 0.0571\n",
            "Epoch 70/100\n",
            "100/100 [==============================] - 9s 86ms/step - loss: 0.0590\n",
            "Epoch 71/100\n",
            "100/100 [==============================] - 9s 86ms/step - loss: 0.0557\n",
            "Epoch 72/100\n",
            "100/100 [==============================] - 9s 86ms/step - loss: 0.0559\n",
            "Epoch 73/100\n",
            "100/100 [==============================] - 9s 86ms/step - loss: 0.0581\n",
            "Epoch 74/100\n",
            "100/100 [==============================] - 9s 87ms/step - loss: 0.0554\n",
            "Epoch 75/100\n",
            "100/100 [==============================] - 9s 87ms/step - loss: 0.0550\n",
            "Epoch 76/100\n",
            "100/100 [==============================] - 9s 87ms/step - loss: 0.0555\n",
            "Epoch 77/100\n",
            "100/100 [==============================] - 9s 87ms/step - loss: 0.0582\n",
            "Epoch 78/100\n",
            "100/100 [==============================] - 9s 86ms/step - loss: 0.0536\n",
            "Epoch 79/100\n",
            "100/100 [==============================] - 9s 87ms/step - loss: 0.0549\n",
            "Epoch 80/100\n",
            "100/100 [==============================] - 9s 87ms/step - loss: 0.0561\n",
            "Epoch 81/100\n",
            "100/100 [==============================] - 9s 87ms/step - loss: 0.0549\n",
            "Epoch 82/100\n",
            "100/100 [==============================] - 9s 86ms/step - loss: 0.0544\n",
            "Epoch 83/100\n",
            "100/100 [==============================] - 9s 86ms/step - loss: 0.0546\n",
            "Epoch 84/100\n",
            "100/100 [==============================] - 9s 87ms/step - loss: 0.0571\n",
            "Epoch 85/100\n",
            "100/100 [==============================] - 9s 87ms/step - loss: 0.0524\n",
            "Epoch 86/100\n",
            "100/100 [==============================] - 9s 87ms/step - loss: 0.0551\n",
            "Epoch 87/100\n",
            "100/100 [==============================] - 9s 87ms/step - loss: 0.0553\n",
            "Epoch 88/100\n",
            "100/100 [==============================] - 9s 87ms/step - loss: 0.0532\n",
            "Epoch 89/100\n",
            "100/100 [==============================] - 9s 87ms/step - loss: 0.0538\n",
            "Epoch 90/100\n",
            "100/100 [==============================] - 9s 86ms/step - loss: 0.0540\n",
            "Epoch 91/100\n",
            "100/100 [==============================] - 9s 87ms/step - loss: 0.0558\n",
            "Epoch 92/100\n",
            "100/100 [==============================] - 9s 87ms/step - loss: 0.0493\n",
            "Epoch 93/100\n",
            "100/100 [==============================] - 9s 87ms/step - loss: 0.0553\n",
            "Epoch 94/100\n",
            "100/100 [==============================] - 9s 87ms/step - loss: 0.0549\n",
            "Epoch 95/100\n",
            "100/100 [==============================] - 9s 86ms/step - loss: 0.0523\n",
            "Epoch 96/100\n",
            "100/100 [==============================] - 9s 86ms/step - loss: 0.0525\n",
            "Epoch 97/100\n",
            "100/100 [==============================] - 9s 87ms/step - loss: 0.0525\n",
            "Epoch 98/100\n",
            "100/100 [==============================] - 9s 86ms/step - loss: 0.0546\n",
            "Epoch 99/100\n",
            "100/100 [==============================] - 9s 86ms/step - loss: 0.0488\n",
            "Epoch 100/100\n",
            "100/100 [==============================] - 9s 86ms/step - loss: 0.0532\n"
          ]
        },
        {
          "output_type": "execute_result",
          "data": {
            "text/plain": [
              "<keras.callbacks.History at 0x7fc300302150>"
            ]
          },
          "metadata": {},
          "execution_count": 18
        }
      ]
    },
    {
      "cell_type": "code",
      "source": [
        ""
      ],
      "metadata": {
        "id": "JinCz8dQkLkc"
      },
      "execution_count": 18,
      "outputs": []
    }
  ]
}