{
 "cells": [
  {
   "cell_type": "code",
   "execution_count": 11,
   "id": "1a2e2219",
   "metadata": {},
   "outputs": [
    {
     "name": "stdout",
     "output_type": "stream",
     "text": [
      "Overwriting app.py\n"
     ]
    }
   ],
   "source": [
    "%%writefile app.py\n",
    "import streamlit as st\n",
    "import pandas as pd\n",
    "import shap\n",
    "import matplotlib.pyplot as plt\n",
    "from sklearn import datasets\n",
    "from sklearn.ensemble import RandomForestRegressor\n",
    "\n",
    "st.write(\"\"\"\n",
    "# Boston House Price Prediction App\n",
    "\n",
    "This app predicts the **Boston House Price**!\n",
    "\"\"\")\n",
    "st.write('---')\n",
    "\n",
    "# Loads the Boston House Price Dataset\n",
    "boston = datasets.load_boston()\n",
    "X = pd.DataFrame(boston.data, columns=boston.feature_names)\n",
    "Y = pd.DataFrame(boston.target, columns=[\"MEDV\"])\n",
    "\n",
    "# Sidebar\n",
    "# Header of Specify Input Parameters\n",
    "st.sidebar.header('Specify Input Parameters')\n",
    "\n",
    "def user_input_features():\n",
    "    CRIM = st.sidebar.slider('CRIM', X.CRIM.min(), X.CRIM.max(), X.CRIM.mean())\n",
    "    ZN = st.sidebar.slider('ZN', X.ZN.min(), X.ZN.max(), X.ZN.mean())\n",
    "    INDUS = st.sidebar.slider('INDUS', X.INDUS.min(), X.INDUS.max(), X.INDUS.mean())\n",
    "    CHAS = st.sidebar.slider('CHAS', X.CHAS.min(), X.CHAS.max(), X.CHAS.mean())\n",
    "    NOX = st.sidebar.slider('NOX', X.NOX.min(), X.NOX.max(), X.NOX.mean())\n",
    "    RM = st.sidebar.slider('RM', X.RM.min(), X.RM.max(), X.RM.mean())\n",
    "    AGE = st.sidebar.slider('AGE', X.AGE.min(), X.AGE.max(), X.AGE.mean())\n",
    "    DIS = st.sidebar.slider('DIS', X.DIS.min(), X.DIS.max(), X.DIS.mean())\n",
    "    RAD = st.sidebar.slider('RAD', X.RAD.min(), X.RAD.max(), X.RAD.mean())\n",
    "    TAX = st.sidebar.slider('TAX', X.TAX.min(), X.TAX.max(), X.TAX.mean())\n",
    "    PTRATIO = st.sidebar.slider('PTRATIO', X.PTRATIO.min(), X.PTRATIO.max(), X.PTRATIO.mean())\n",
    "    B = st.sidebar.slider('B', X.B.min(), X.B.max(), X.B.mean())\n",
    "    LSTAT = st.sidebar.slider('LSTAT', X.LSTAT.min(), X.LSTAT.max(), X.LSTAT.mean())\n",
    "    data = {'CRIM': CRIM,\n",
    "            'ZN': ZN,\n",
    "            'INDUS': INDUS,\n",
    "            'CHAS': CHAS,\n",
    "            'NOX': NOX,\n",
    "            'RM': RM,\n",
    "            'AGE': AGE,\n",
    "            'DIS': DIS,\n",
    "            'RAD': RAD,\n",
    "            'TAX': TAX,\n",
    "            'PTRATIO': PTRATIO,\n",
    "            'B': B,\n",
    "            'LSTAT': LSTAT}\n",
    "    features = pd.DataFrame(data, index=[0])\n",
    "    return features\n",
    "\n",
    "df = user_input_features()\n",
    "\n",
    "# Main Panel\n",
    "\n",
    "# Print specified input parameters\n",
    "st.header('Specified Input parameters')\n",
    "st.write(df)\n",
    "st.write('---')\n",
    "\n",
    "# Build Regression Model\n",
    "model = RandomForestRegressor()\n",
    "model.fit(X, Y)\n",
    "\n",
    "prediction = model.predict(df)\n",
    "\n",
    "st.header('Prediction of MEDV')\n",
    "st.write(prediction)\n",
    "st.write('---')\n",
    "\n",
    "explainer = shap.TreeExplainer(model)\n",
    "shap_values = explainer.shap_values(X)\n",
    "\n",
    "# st.header('Feature Importance')\n",
    "# plt.title('Feature importance based on SHAP values')\n",
    "# shap.summary_plot(shap_values, X)\n",
    "# st.pyplot(bbox_inches='tight')\n",
    "st.write('---')\n",
    "\n",
    "# plt.title('Feature importance based on SHAP values (Bar)')\n",
    "# shap.summary_plot(shap_values, X, plot_type=\"bar\")\n",
    "# st.pyplot(bbox_inches='tight')"
   ]
  },
  {
   "cell_type": "code",
   "execution_count": null,
   "id": "8518e405",
   "metadata": {},
   "outputs": [],
   "source": [
    "! streamlit run app.py"
   ]
  },
  {
   "cell_type": "code",
   "execution_count": null,
   "id": "c82a2af2",
   "metadata": {},
   "outputs": [],
   "source": []
  }
 ],
 "metadata": {
  "kernelspec": {
   "display_name": "Python 3",
   "language": "python",
   "name": "python3"
  },
  "language_info": {
   "codemirror_mode": {
    "name": "ipython",
    "version": 3
   },
   "file_extension": ".py",
   "mimetype": "text/x-python",
   "name": "python",
   "nbconvert_exporter": "python",
   "pygments_lexer": "ipython3",
   "version": "3.8.8"
  }
 },
 "nbformat": 4,
 "nbformat_minor": 5
}
